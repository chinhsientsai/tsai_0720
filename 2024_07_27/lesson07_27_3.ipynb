{
 "cells": [
  {
   "cell_type": "code",
   "execution_count": 1,
   "metadata": {},
   "outputs": [
    {
     "data": {
      "text/plain": [
       "'__main__'"
      ]
     },
     "execution_count": 1,
     "metadata": {},
     "output_type": "execute_result"
    }
   ],
   "source": [
    "__name__"
   ]
  },
  {
   "cell_type": "code",
   "execution_count": 26,
   "metadata": {},
   "outputs": [
    {
     "name": "stdout",
     "output_type": "stream",
     "text": [
      "/home/pi/Documents/GitHub/tsai_0720/2024_07_27/data\n",
      "目錄已建立\n",
      "已經有log檔\n"
     ]
    }
   ],
   "source": [
    "import os.path\n",
    "\n",
    "current_path = os.path.abspath(__name__)\n",
    "directory_name = os.path.dirname(current_path)\n",
    "data_path = os.path.join(directory_name,'data')\n",
    "print(data_path)\n",
    "if not os.path.isdir(data_path):\n",
    "    print(\"沒有data的目錄,手動建立目錄\")\n",
    "    os.mkdir(data_path)\n",
    "else:\n",
    "    print(\"目錄已建立\")\n",
    "\n",
    "log_path = os.path.join(data_path, 'iot.log')\n",
    "if not os.path.isfile(log_path):\n",
    "    print(\"沒有iot.log檔,建立新檔\")\n",
    "    with open(log_path,mode='w',encoding='utf-8',newline='') as file:\n",
    "        file.write('時間,濕度,溫度\\n')\n",
    "    \n",
    "else:\n",
    "    print(\"已經有log檔\")"
   ]
  },
  {
   "cell_type": "code",
   "execution_count": 25,
   "metadata": {},
   "outputs": [],
   "source": [
    "with open(log_path,mode='a',encoding='utf-8',newline='') as file:\n",
    "        file.write('2024-07-27 15:30:25,70.5,29.5\\n')"
   ]
  }
 ],
 "metadata": {
  "kernelspec": {
   "display_name": "venv1",
   "language": "python",
   "name": "python3"
  },
  "language_info": {
   "codemirror_mode": {
    "name": "ipython",
    "version": 3
   },
   "file_extension": ".py",
   "mimetype": "text/x-python",
   "name": "python",
   "nbconvert_exporter": "python",
   "pygments_lexer": "ipython3",
   "version": "3.11.2"
  }
 },
 "nbformat": 4,
 "nbformat_minor": 2
}
